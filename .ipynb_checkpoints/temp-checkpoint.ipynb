{
 "cells": [
  {
   "cell_type": "code",
   "metadata": {
    "jupyter": {
     "is_executing": true
    }
   },
   "source": [
    "import pandas as pd\n",
    "import numpy as np\n",
    "from sklearn.metrics.pairwise import cosine_similarity\n",
    "from scipy.sparse import csr_matrix"
   ],
   "outputs": [],
   "execution_count": null
  },
  {
   "cell_type": "code",
   "metadata": {
    "ExecuteTime": {
     "end_time": "2024-12-16T11:05:06.873385Z",
     "start_time": "2024-12-16T11:05:06.478914Z"
    }
   },
   "source": [
    "# Load the datasets\n",
    "club_skills_df = pd.read_excel('Dataset/Club_Skills_Dataset_Extended.xlsx')\n",
    "ratings_df = pd.read_excel('Dataset/Ratings_dataset.xlsx')\n"
   ],
   "outputs": [
    {
     "ename": "NameError",
     "evalue": "name 'pd' is not defined",
     "output_type": "error",
     "traceback": [
      "\u001B[1;31m---------------------------------------------------------------------------\u001B[0m",
      "\u001B[1;31mNameError\u001B[0m                                 Traceback (most recent call last)",
      "Cell \u001B[1;32mIn[1], line 2\u001B[0m\n\u001B[0;32m      1\u001B[0m \u001B[38;5;66;03m# Load the datasets\u001B[39;00m\n\u001B[1;32m----> 2\u001B[0m club_skills_df \u001B[38;5;241m=\u001B[39m \u001B[43mpd\u001B[49m\u001B[38;5;241m.\u001B[39mread_excel(\u001B[38;5;124m'\u001B[39m\u001B[38;5;124mDataset/Club_Skills_Dataset_Extended.xlsx\u001B[39m\u001B[38;5;124m'\u001B[39m)\n\u001B[0;32m      3\u001B[0m ratings_df \u001B[38;5;241m=\u001B[39m pd\u001B[38;5;241m.\u001B[39mread_excel(\u001B[38;5;124m'\u001B[39m\u001B[38;5;124mDataset/Ratings_dataset.xlsx\u001B[39m\u001B[38;5;124m'\u001B[39m)\n",
      "\u001B[1;31mNameError\u001B[0m: name 'pd' is not defined"
     ]
    }
   ],
   "execution_count": 1
  },
  {
   "cell_type": "code",
   "execution_count": null,
   "metadata": {},
   "outputs": [
    {
     "name": "stdout",
     "output_type": "stream",
     "text": [
      "Club Skills Dataset:\n",
      "    Sr. No                      Club           Skill  \\\n",
      "0       1  AALEKH - Art Elated Club         Drawing   \n",
      "1       2  AALEKH - Art Elated Club       Sketching   \n",
      "2       3  AALEKH - Art Elated Club        Painting   \n",
      "3       4  AALEKH - Art Elated Club     Digital Art   \n",
      "4       5  AALEKH - Art Elated Club  Graphic Design   \n",
      "\n",
      "                                           Image url  \n",
      "0  https://mitaoe.ac.in/assets/images/club/aalekh...  \n",
      "1  https://mitaoe.ac.in/assets/images/club/aalekh...  \n",
      "2  https://mitaoe.ac.in/assets/images/club/aalekh...  \n",
      "3  https://mitaoe.ac.in/assets/images/club/aalekh...  \n",
      "4  https://mitaoe.ac.in/assets/images/club/aalekh...  \n",
      "Ratings Dataset:\n",
      "    Sr. No                                     Club Name   Rating\n",
      "0       1                       AALEKH - Art Elated Club     480\n",
      "1       2                                           AERO     495\n",
      "2       3  TEAM NIYUDRATH RACING (TNR) - AUTOSPORTS CLUB     490\n",
      "3       4                        CodeChef MITAOE Chapter     480\n",
      "4       5                        Google Developer Groups     487\n"
     ]
    }
   ],
   "source": [
    "# Inspect the Club Skills dataset\n",
    "print(\"Club Skills Dataset:\\n\", club_skills_df.head())\n",
    "\n",
    "# Inspect the Ratings dataset\n",
    "print(\"Ratings Dataset:\\n\", ratings_df.head())\n"
   ]
  },
  {
   "cell_type": "code",
   "execution_count": null,
   "metadata": {},
   "outputs": [],
   "source": [
    "# Remove any leading/trailing spaces from column names\n",
    "club_skills_df.columns = club_skills_df.columns.str.strip()\n",
    "ratings_df.columns = ratings_df.columns.str.strip()\n",
    "\n",
    "# Rename columns to align with each other, if needed\n",
    "club_skills_df.rename(columns={'Club': 'Club Name'}, inplace=True)\n",
    "ratings_df.rename(columns={'Club Name': 'Club Name'}, inplace=True)  # This line may not be necessary\n"
   ]
  },
  {
   "cell_type": "code",
   "execution_count": null,
   "metadata": {},
   "outputs": [
    {
     "name": "stdout",
     "output_type": "stream",
     "text": [
      "Merged Dataset:\n",
      "    Sr. No_x                 Club Name           Skill  \\\n",
      "0         1  AALEKH - Art Elated Club         Drawing   \n",
      "1         2  AALEKH - Art Elated Club       Sketching   \n",
      "2         3  AALEKH - Art Elated Club        Painting   \n",
      "3         4  AALEKH - Art Elated Club     Digital Art   \n",
      "4         5  AALEKH - Art Elated Club  Graphic Design   \n",
      "\n",
      "                                           Image url  Sr. No_y  Rating  \n",
      "0  https://mitaoe.ac.in/assets/images/club/aalekh...         1     480  \n",
      "1  https://mitaoe.ac.in/assets/images/club/aalekh...         1     480  \n",
      "2  https://mitaoe.ac.in/assets/images/club/aalekh...         1     480  \n",
      "3  https://mitaoe.ac.in/assets/images/club/aalekh...         1     480  \n",
      "4  https://mitaoe.ac.in/assets/images/club/aalekh...         1     480  \n"
     ]
    }
   ],
   "source": [
    "# Merge datasets on 'Club Name' to combine skills and ratings for each club\n",
    "merged_df = pd.merge(club_skills_df, ratings_df, on='Club Name', how='inner')\n",
    "print(\"Merged Dataset:\\n\", merged_df.head())\n"
   ]
  },
  {
   "cell_type": "code",
   "execution_count": null,
   "metadata": {},
   "outputs": [
    {
     "name": "stdout",
     "output_type": "stream",
     "text": [
      "Club Skill Matrix:\n",
      " Skill                     3D Modeling  API Development  Accent Training  \\\n",
      "Club Name                                                                 \n",
      "AALEKH - Art Elated Club            0                0                0   \n",
      "AERO                                1                0                0   \n",
      "CodeChef MITAOE Chapter             0                0                0   \n",
      "Digital Design                      1                0                0   \n",
      "Drama                               0                0                0   \n",
      "\n",
      "Skill                     Acting  Actuators  Adaptability  \\\n",
      "Club Name                                                   \n",
      "AALEKH - Art Elated Club       0          0             0   \n",
      "AERO                           0          0             0   \n",
      "CodeChef MITAOE Chapter        0          0             0   \n",
      "Digital Design                 1          0             0   \n",
      "Drama                          0          0             0   \n",
      "\n",
      "Skill                     Adobe After Effects  Adobe Lightroom  \\\n",
      "Club Name                                                        \n",
      "AALEKH - Art Elated Club                    0                0   \n",
      "AERO                                        0                0   \n",
      "CodeChef MITAOE Chapter                     0                0   \n",
      "Digital Design                              1                0   \n",
      "Drama                                       0                0   \n",
      "\n",
      "Skill                     Adobe Photoshop  Aerodynamics  ...  \\\n",
      "Club Name                                                ...   \n",
      "AALEKH - Art Elated Club                0             0  ...   \n",
      "AERO                                    0             1  ...   \n",
      "CodeChef MITAOE Chapter                 0             0  ...   \n",
      "Digital Design                          0             0  ...   \n",
      "Drama                                   0             0  ...   \n",
      "\n",
      "Skill                     Visual Composition  Vocabulary  Vocabulary Building  \\\n",
      "Club Name                                                                       \n",
      "AALEKH - Art Elated Club                   1           0                    0   \n",
      "AERO                                       0           0                    0   \n",
      "CodeChef MITAOE Chapter                    0           0                    0   \n",
      "Digital Design                             1           0                    0   \n",
      "Drama                                      0           0                    0   \n",
      "\n",
      "Skill                     Voice Modulation  Volunteer Coordination  \\\n",
      "Club Name                                                            \n",
      "AALEKH - Art Elated Club                 0                       0   \n",
      "AERO                                     0                       0   \n",
      "CodeChef MITAOE Chapter                  0                       0   \n",
      "Digital Design                           0                       0   \n",
      "Drama                                    1                       0   \n",
      "\n",
      "Skill                     Web Development  Welding  Wireframing  Writing  \\\n",
      "Club Name                                                                  \n",
      "AALEKH - Art Elated Club                0        0            0        0   \n",
      "AERO                                    0        0            0        0   \n",
      "CodeChef MITAOE Chapter                 1        0            0        0   \n",
      "Digital Design                          0        0            1        0   \n",
      "Drama                                   0        0            0        0   \n",
      "\n",
      "Skill                     Writing Skills  \n",
      "Club Name                                 \n",
      "AALEKH - Art Elated Club               0  \n",
      "AERO                                   0  \n",
      "CodeChef MITAOE Chapter                0  \n",
      "Digital Design                         0  \n",
      "Drama                                  0  \n",
      "\n",
      "[5 rows x 245 columns]\n"
     ]
    }
   ],
   "source": [
    "# Create pivot table with clubs as rows, skills as columns\n",
    "club_skill_matrix = merged_df.pivot_table(index='Club Name', columns='Skill', aggfunc='size', fill_value=0)\n",
    "print(\"Club Skill Matrix:\\n\", club_skill_matrix.head())\n"
   ]
  },
  {
   "cell_type": "code",
   "execution_count": null,
   "metadata": {},
   "outputs": [],
   "source": [
    "# Convert the matrix to a sparse matrix format\n",
    "sparse_matrix = csr_matrix(club_skill_matrix.values)\n"
   ]
  },
  {
   "cell_type": "code",
   "execution_count": null,
   "metadata": {},
   "outputs": [],
   "source": [
    "# Compute cosine similarity between clubs\n",
    "similarity_matrix = cosine_similarity(sparse_matrix)\n",
    "similarity_df = pd.DataFrame(similarity_matrix, index=club_skill_matrix.index, columns=club_skill_matrix.index)\n"
   ]
  },
  {
   "cell_type": "code",
   "execution_count": null,
   "metadata": {},
   "outputs": [],
   "source": [
    "def recommend_clubs(skill, top_n=5):\n",
    "    if skill not in club_skill_matrix.columns:\n",
    "        print(\"Skill not found.\")\n",
    "        return []\n",
    "    \n",
    "    # Filter clubs that have the specified skill\n",
    "    clubs_with_skill = club_skill_matrix[club_skill_matrix[skill] > 0].index\n",
    "    \n",
    "    # Calculate the average similarity for clubs with the skill\n",
    "    recommendations = []\n",
    "    for club in clubs_with_skill:\n",
    "        similar_clubs = similarity_df[club].sort_values(ascending=False).index\n",
    "        recommended_clubs = [c for c in similar_clubs if c != club][:top_n]\n",
    "        recommendations.extend(recommended_clubs)\n",
    "    \n",
    "    # Return unique recommendations\n",
    "    return list(set(recommendations))[:top_n]\n"
   ]
  },
  {
   "cell_type": "code",
   "execution_count": null,
   "metadata": {},
   "outputs": [
    {
     "name": "stdout",
     "output_type": "stream",
     "text": [
      "Clubs recommended for skill 'Thermodynamics': ['Srujan', 'AERO', 'TEAM NIYUDRATH RACING (TNR) - AUTOSPORTS CLUB', 'Prakruti', 'Robotics']\n"
     ]
    }
   ],
   "source": [
    "# Example usage\n",
    "example_skill = 'Thermodynamics'  # replace with any skill to test\n",
    "recommended_clubs = recommend_clubs(example_skill)\n",
    "print(f\"Clubs recommended for skill '{example_skill}':\", recommended_clubs)\n"
   ]
  },
  {
   "cell_type": "code",
   "execution_count": null,
   "metadata": {},
   "outputs": [
    {
     "name": "stdout",
     "output_type": "stream",
     "text": [
      "Model saved as 'club_recommendation_model.pkl'\n"
     ]
    }
   ],
   "source": [
    "import pickle\n",
    "\n",
    "# Save model components (similarity matrix and skill matrix) to a pickle file\n",
    "with open('club_recommendation_model.pkl', 'wb') as file:\n",
    "    pickle.dump({'similarity_matrix': similarity_df, 'club_skill_matrix': club_skill_matrix}, file)\n",
    "\n",
    "print(\"Model saved as 'club_recommendation_model.pkl'\")\n"
   ]
  },
  {
   "cell_type": "code",
   "execution_count": null,
   "metadata": {},
   "outputs": [
    {
     "ename": "NameError",
     "evalue": "name 'pickle' is not defined",
     "output_type": "error",
     "traceback": [
      "\u001B[1;31m---------------------------------------------------------------------------\u001B[0m",
      "\u001B[1;31mNameError\u001B[0m                                 Traceback (most recent call last)",
      "Cell \u001B[1;32mIn[2], line 3\u001B[0m\n\u001B[0;32m      1\u001B[0m \u001B[38;5;66;03m# Load the model components from the pickle file\u001B[39;00m\n\u001B[0;32m      2\u001B[0m \u001B[38;5;28;01mwith\u001B[39;00m \u001B[38;5;28mopen\u001B[39m(\u001B[38;5;124m'\u001B[39m\u001B[38;5;124mclub_recommendation_model.pkl\u001B[39m\u001B[38;5;124m'\u001B[39m, \u001B[38;5;124m'\u001B[39m\u001B[38;5;124mrb\u001B[39m\u001B[38;5;124m'\u001B[39m) \u001B[38;5;28;01mas\u001B[39;00m file:\n\u001B[1;32m----> 3\u001B[0m     model_data \u001B[38;5;241m=\u001B[39m \u001B[43mpickle\u001B[49m\u001B[38;5;241m.\u001B[39mload(file)\n\u001B[0;32m      5\u001B[0m \u001B[38;5;66;03m# Extract the loaded data\u001B[39;00m\n\u001B[0;32m      6\u001B[0m loaded_similarity_df \u001B[38;5;241m=\u001B[39m model_data[\u001B[38;5;124m'\u001B[39m\u001B[38;5;124msimilarity_matrix\u001B[39m\u001B[38;5;124m'\u001B[39m]\n",
      "\u001B[1;31mNameError\u001B[0m: name 'pickle' is not defined"
     ]
    }
   ],
   "source": [
    "# Load the model components from the pickle file\n",
    "with open('club_recommendation_model.pkl', 'rb') as file:\n",
    "    model_data = pickle.load(file)\n",
    "\n",
    "# Extract the loaded data\n",
    "loaded_similarity_df = model_data['similarity_matrix']\n",
    "loaded_club_skill_matrix = model_data['club_skill_matrix']\n",
    "\n",
    "print(\"Model loaded successfully.\")\n"
   ]
  },
  {
   "cell_type": "code",
   "execution_count": null,
   "metadata": {},
   "outputs": [],
   "source": []
  }
 ],
 "metadata": {
  "kernelspec": {
   "display_name": "Python 3",
   "language": "python",
   "name": "python3"
  },
  "language_info": {
   "codemirror_mode": {
    "name": "ipython",
    "version": 3
   },
   "file_extension": ".py",
   "mimetype": "text/x-python",
   "name": "python",
   "nbconvert_exporter": "python",
   "pygments_lexer": "ipython3",
   "version": "3.13.0"
  }
 },
 "nbformat": 4,
 "nbformat_minor": 2
}
