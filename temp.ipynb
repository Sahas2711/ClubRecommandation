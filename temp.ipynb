{
 "cells": [
  {
   "cell_type": "code",
   "execution_count": null,
   "metadata": {
    "ExecuteTime": {
     "end_time": "2024-12-16T14:16:48.820650Z",
     "start_time": "2024-12-16T14:16:46.003221Z"
    }
   },
   "outputs": [
    {
     "ename": "",
     "evalue": "",
     "output_type": "error",
     "traceback": [
      "\u001b[1;31mRunning cells with 'env (Python 3.13.0)' requires the ipykernel package.\n",
      "\u001b[1;31mRun the following command to install 'ipykernel' into the Python environment. \n",
      "\u001b[1;31mCommand: '\"e:/Python install/python project/Book recommandation/temp/env/Scripts/python.exe\" -m pip install ipykernel -U --force-reinstall'"
     ]
    }
   ],
   "source": [
    "import pandas as pd\n",
    "import numpy as np\n",
    "from sklearn.metrics.pairwise import cosine_similarity\n",
    "from scipy.sparse import csr_matrix"
   ]
  },
  {
   "cell_type": "code",
   "execution_count": 2,
   "metadata": {
    "ExecuteTime": {
     "end_time": "2024-12-16T14:16:49.259152Z",
     "start_time": "2024-12-16T14:16:48.840082Z"
    }
   },
   "outputs": [],
   "source": [
    "# Load the datasets\n",
    "club_skills_df = pd.read_excel('Dataset/Club_Skills_Dataset_Extended.xlsx')\n",
    "ratings_df = pd.read_excel('Dataset/Ratings_dataset.xlsx')\n"
   ]
  },
  {
   "cell_type": "code",
   "execution_count": null,
   "metadata": {
    "ExecuteTime": {
     "end_time": "2024-12-16T14:16:49.529415Z",
     "start_time": "2024-12-16T14:16:49.516817Z"
    }
   },
   "outputs": [],
   "source": [
    "# Inspect the Club Skills dataset\n",
    "print(\"Club Skills Dataset:\\n\", club_skills_df.head())\n",
    "\n",
    "# Inspect the Ratings dataset\n",
    "print(\"Ratings Dataset:\\n\", ratings_df.head())\n"
   ]
  },
  {
   "cell_type": "code",
   "execution_count": 4,
   "metadata": {
    "ExecuteTime": {
     "end_time": "2024-12-16T14:16:49.558301Z",
     "start_time": "2024-12-16T14:16:49.547039Z"
    }
   },
   "outputs": [],
   "source": [
    "# Remove any leading/trailing spaces from column names\n",
    "club_skills_df.columns = club_skills_df.columns.str.strip()\n",
    "ratings_df.columns = ratings_df.columns.str.strip()\n",
    "\n",
    "# Rename columns to align with each other, if needed\n",
    "club_skills_df.rename(columns={'Club': 'Club Name'}, inplace=True)\n",
    "ratings_df.rename(columns={'Club Name': 'Club Name'}, inplace=True)  # This line may not be necessary\n"
   ]
  },
  {
   "cell_type": "code",
   "execution_count": null,
   "metadata": {
    "ExecuteTime": {
     "end_time": "2024-12-16T14:16:49.658494Z",
     "start_time": "2024-12-16T14:16:49.640812Z"
    }
   },
   "outputs": [],
   "source": [
    "# Merge datasets on 'Club Name' to combine skills and ratings for each club\n",
    "merged_df = pd.merge(club_skills_df, ratings_df, on='Club Name', how='inner')\n",
    "print(\"Merged Dataset:\\n\", merged_df.head())\n"
   ]
  },
  {
   "cell_type": "code",
   "execution_count": null,
   "metadata": {
    "ExecuteTime": {
     "end_time": "2024-12-16T14:16:49.740249Z",
     "start_time": "2024-12-16T14:16:49.712711Z"
    }
   },
   "outputs": [],
   "source": [
    "# Create pivot table with clubs as rows, skills as columns\n",
    "club_skill_matrix = merged_df.pivot_table(index='Club Name', columns='Skill', aggfunc='size', fill_value=0)\n",
    "print(\"Club Skill Matrix:\\n\", club_skill_matrix.head())\n"
   ]
  },
  {
   "cell_type": "code",
   "execution_count": 7,
   "metadata": {
    "ExecuteTime": {
     "end_time": "2024-12-16T14:16:49.776856Z",
     "start_time": "2024-12-16T14:16:49.769586Z"
    }
   },
   "outputs": [],
   "source": [
    "# Convert the matrix to a sparse matrix format\n",
    "sparse_matrix = csr_matrix(club_skill_matrix.values)\n"
   ]
  },
  {
   "cell_type": "code",
   "execution_count": 8,
   "metadata": {
    "ExecuteTime": {
     "end_time": "2024-12-16T14:16:49.828606Z",
     "start_time": "2024-12-16T14:16:49.817182Z"
    }
   },
   "outputs": [],
   "source": [
    "# Compute cosine similarity between clubs\n",
    "similarity_matrix = cosine_similarity(sparse_matrix)\n",
    "similarity_df = pd.DataFrame(similarity_matrix, index=club_skill_matrix.index, columns=club_skill_matrix.index)\n"
   ]
  },
  {
   "cell_type": "code",
   "execution_count": 9,
   "metadata": {
    "ExecuteTime": {
     "end_time": "2024-12-16T14:16:49.848546Z",
     "start_time": "2024-12-16T14:16:49.840256Z"
    }
   },
   "outputs": [],
   "source": [
    "def recommend_clubs(skill, top_n=5):\n",
    "    if skill not in club_skill_matrix.columns:\n",
    "        print(\"Skill not found.\")\n",
    "        return []\n",
    "    \n",
    "    # Filter clubs that have the specified skill\n",
    "    clubs_with_skill = club_skill_matrix[club_skill_matrix[skill] > 0].index\n",
    "    \n",
    "    # Calculate the average similarity for clubs with the skill\n",
    "    recommendations = []\n",
    "    for club in clubs_with_skill:\n",
    "        similar_clubs = similarity_df[club].sort_values(ascending=False).index\n",
    "        recommended_clubs = [c for c in similar_clubs if c != club][:top_n]\n",
    "        recommendations.extend(recommended_clubs)\n",
    "    \n",
    "    # Return unique recommendations\n",
    "    return list(set(recommendations))[:top_n]\n"
   ]
  },
  {
   "cell_type": "code",
   "execution_count": null,
   "metadata": {
    "ExecuteTime": {
     "end_time": "2024-12-16T14:16:49.886331Z",
     "start_time": "2024-12-16T14:16:49.878417Z"
    }
   },
   "outputs": [],
   "source": [
    "# Example usage\n",
    "example_skill = 'Thermodynamics'  # replace with any skill to test\n",
    "recommended_clubs = recommend_clubs(example_skill)\n",
    "print(f\"Clubs recommended for skill '{example_skill}':\", recommended_clubs)\n"
   ]
  },
  {
   "cell_type": "code",
   "execution_count": null,
   "metadata": {
    "ExecuteTime": {
     "end_time": "2024-12-16T14:16:49.950254Z",
     "start_time": "2024-12-16T14:16:49.941344Z"
    }
   },
   "outputs": [],
   "source": [
    "import pickle\n",
    "\n",
    "# Save model components (similarity matrix and skill matrix) to a pickle file\n",
    "with open('club_recommendation_model.pkl', 'wb') as file:\n",
    "    pickle.dump({'similarity_matrix': similarity_df, 'club_skill_matrix': club_skill_matrix}, file)\n",
    "\n",
    "print(\"Model saved as 'club_recommendation_model.pkl'\")\n"
   ]
  },
  {
   "cell_type": "code",
   "execution_count": null,
   "metadata": {
    "ExecuteTime": {
     "end_time": "2024-12-16T14:16:49.980626Z",
     "start_time": "2024-12-16T14:16:49.972588Z"
    }
   },
   "outputs": [],
   "source": [
    "# Load the model components from the pickle file\n",
    "with open('club_recommendation_model.pkl', 'rb') as file:\n",
    "    model_data = pickle.load(file)\n",
    "\n",
    "# Extract the loaded data\n",
    "loaded_similarity_df = model_data['similarity_matrix']\n",
    "loaded_club_skill_matrix = model_data['club_skill_matrix']\n",
    "\n",
    "print(\"Model loaded successfully.\")\n"
   ]
  },
  {
   "cell_type": "code",
   "execution_count": null,
   "metadata": {
    "ExecuteTime": {
     "end_time": "2024-12-16T14:16:50.025795Z",
     "start_time": "2024-12-16T14:16:50.022285Z"
    }
   },
   "outputs": [],
   "source": []
  },
  {
   "cell_type": "code",
   "execution_count": null,
   "metadata": {
    "ExecuteTime": {
     "end_time": "2024-12-16T14:16:50.109209Z",
     "start_time": "2024-12-16T14:16:50.104796Z"
    }
   },
   "outputs": [],
   "source": []
  }
 ],
 "metadata": {
  "kernelspec": {
   "display_name": "env",
   "language": "python",
   "name": "python3"
  },
  "language_info": {
   "codemirror_mode": {
    "name": "ipython",
    "version": 3
   },
   "file_extension": ".py",
   "mimetype": "text/x-python",
   "name": "python",
   "nbconvert_exporter": "python",
   "pygments_lexer": "ipython3",
   "version": "3.13.0"
  }
 },
 "nbformat": 4,
 "nbformat_minor": 4
}
